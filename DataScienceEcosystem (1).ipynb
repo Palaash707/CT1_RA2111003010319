{
 "cells": [
  {
   "cell_type": "markdown",
   "id": "8502c60a-17f8-4cfa-a3aa-7094b281156c",
   "metadata": {
    "tags": []
   },
   "source": [
    "# Data Science Tools and Ecosystem"
   ]
  },
  {
   "cell_type": "markdown",
   "id": "be6f28c5-e473-42e0-8c8a-725657e37675",
   "metadata": {},
   "source": [
    "In this notebook, Data Science Tools and Ecosystem are summarized."
   ]
  },
  {
   "cell_type": "markdown",
   "id": "7ce413f3-9a19-4128-a111-ce5629512321",
   "metadata": {},
   "source": [
    "Some of the popular languages that Data Scientists use are:"
   ]
  },
  {
   "cell_type": "markdown",
   "id": "6163e6d9-8107-4e5a-b00f-dd164ee6f452",
   "metadata": {},
   "source": [
    "1. Python\n",
    "2. SQL\n",
    "3. R"
   ]
  },
  {
   "cell_type": "markdown",
   "id": "fac2f7c4-2892-4f0a-b5d5-34e01e288585",
   "metadata": {},
   "source": [
    "### Overview"
   ]
  },
  {
   "cell_type": "markdown",
   "id": "c4c5ac74-687f-4935-9d31-6dcdd5c99e96",
   "metadata": {},
   "source": [
    "Some of the commonly used libraries used by Data Scientists include:"
   ]
  },
  {
   "cell_type": "markdown",
   "id": "282dd8cc-ca2d-4ee8-8257-e9d138c52b8c",
   "metadata": {},
   "source": [
    "1. Numpy\n",
    "2. Pandas\n",
    "3. Scipy"
   ]
  },
  {
   "cell_type": "markdown",
   "id": "2cbd4e27-2d81-4cbe-9565-4e7a2341a1af",
   "metadata": {},
   "source": [
    "| Data Science Tools |\n",
    "|----------|\n",
    "| RStudio |\n",
    "| TensorFlow |\n",
    "| RapidMiner |"
   ]
  },
  {
   "cell_type": "markdown",
   "id": "11b85c1c-21b7-4adc-8e79-0e367c3bff13",
   "metadata": {},
   "source": [
    "### Below are a few examples of evaluating arithmetic expressions in Python"
   ]
  },
  {
   "cell_type": "code",
   "execution_count": 1,
   "id": "a061c3e9-132f-45bd-98cf-e62c02085ecc",
   "metadata": {
    "tags": []
   },
   "outputs": [
    {
     "data": {
      "text/plain": [
       "17"
      ]
     },
     "execution_count": 1,
     "metadata": {},
     "output_type": "execute_result"
    }
   ],
   "source": [
    "# This a simple arithmetic expression to mutiply then add integers\n",
    "(3*4)+5"
   ]
  },
  {
   "cell_type": "code",
   "execution_count": 2,
   "id": "f376a78e-f6ff-416b-88be-d4bb0033cbd9",
   "metadata": {
    "tags": []
   },
   "outputs": [
    {
     "data": {
      "text/plain": [
       "3.3333333333333335"
      ]
     },
     "execution_count": 2,
     "metadata": {},
     "output_type": "execute_result"
    }
   ],
   "source": [
    "# This will convert 200 minutes to hours by diving by 60\n",
    "200/60"
   ]
  },
  {
   "cell_type": "markdown",
   "id": "c009daf3-46e3-45d1-b922-7be349371bd2",
   "metadata": {},
   "source": [
    "__Objectives:__"
   ]
  },
  {
   "cell_type": "markdown",
   "id": "6e71948c-846a-4844-badf-df818d639f71",
   "metadata": {},
   "source": [
    "- using markdown in jupyter notebook\n",
    "- using code box in jupyter notebook\n",
    "- unordered and ordered list\n",
    "\n",
    "__List popular languages for Data Science:__\n",
    "\n",
    "- Python\n",
    "- R\n",
    "- SQL"
   ]
  },
  {
   "cell_type": "markdown",
   "id": "a1a749ee-eb7d-4f38-a284-c359a8f48a8f",
   "metadata": {},
   "source": [
    "## Author\n",
    "Palaash"
   ]
  },
  {
   "cell_type": "code",
   "execution_count": null,
   "id": "8fc35dc6-563c-43b8-9863-964aed337221",
   "metadata": {},
   "outputs": [],
   "source": []
  }
 ],
 "metadata": {
  "kernelspec": {
   "display_name": "Python",
   "language": "python",
   "name": "conda-env-python-py"
  },
  "language_info": {
   "codemirror_mode": {
    "name": "ipython",
    "version": 3
   },
   "file_extension": ".py",
   "mimetype": "text/x-python",
   "name": "python",
   "nbconvert_exporter": "python",
   "pygments_lexer": "ipython3",
   "version": "3.7.12"
  }
 },
 "nbformat": 4,
 "nbformat_minor": 5
}
